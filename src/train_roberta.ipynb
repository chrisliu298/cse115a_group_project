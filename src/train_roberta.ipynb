{
  "nbformat": 4,
  "nbformat_minor": 0,
  "metadata": {
    "colab": {
      "name": "train_roberta.ipynb",
      "provenance": [],
      "collapsed_sections": []
    },
    "kernelspec": {
      "name": "python3",
      "display_name": "Python 3"
    },
    "accelerator": "GPU",
    "widgets": {
      "application/vnd.jupyter.widget-state+json": {
        "a291d79f26d94dee932bb5f9356ca617": {
          "model_module": "@jupyter-widgets/controls",
          "model_name": "HBoxModel",
          "state": {
            "_view_name": "HBoxView",
            "_dom_classes": [],
            "_model_name": "HBoxModel",
            "_view_module": "@jupyter-widgets/controls",
            "_model_module_version": "1.5.0",
            "_view_count": null,
            "_view_module_version": "1.5.0",
            "box_style": "",
            "layout": "IPY_MODEL_b7a669f4de754c07990e4ce8d7dbe76f",
            "_model_module": "@jupyter-widgets/controls",
            "children": [
              "IPY_MODEL_66af09cad3d248d7a19b83a9f187ba52",
              "IPY_MODEL_ed66cb38c83446c9965677a3b732387d"
            ]
          }
        },
        "b7a669f4de754c07990e4ce8d7dbe76f": {
          "model_module": "@jupyter-widgets/base",
          "model_name": "LayoutModel",
          "state": {
            "_view_name": "LayoutView",
            "grid_template_rows": null,
            "right": null,
            "justify_content": null,
            "_view_module": "@jupyter-widgets/base",
            "overflow": null,
            "_model_module_version": "1.2.0",
            "_view_count": null,
            "flex_flow": null,
            "width": null,
            "min_width": null,
            "border": null,
            "align_items": null,
            "bottom": null,
            "_model_module": "@jupyter-widgets/base",
            "top": null,
            "grid_column": null,
            "overflow_y": null,
            "overflow_x": null,
            "grid_auto_flow": null,
            "grid_area": null,
            "grid_template_columns": null,
            "flex": null,
            "_model_name": "LayoutModel",
            "justify_items": null,
            "grid_row": null,
            "max_height": null,
            "align_content": null,
            "visibility": null,
            "align_self": null,
            "height": null,
            "min_height": null,
            "padding": null,
            "grid_auto_rows": null,
            "grid_gap": null,
            "max_width": null,
            "order": null,
            "_view_module_version": "1.2.0",
            "grid_template_areas": null,
            "object_position": null,
            "object_fit": null,
            "grid_auto_columns": null,
            "margin": null,
            "display": null,
            "left": null
          }
        },
        "66af09cad3d248d7a19b83a9f187ba52": {
          "model_module": "@jupyter-widgets/controls",
          "model_name": "FloatProgressModel",
          "state": {
            "_view_name": "ProgressView",
            "style": "IPY_MODEL_4743f7d217eb471c8d243d11e198c8b0",
            "_dom_classes": [],
            "description": "Epoch:   0%",
            "_model_name": "FloatProgressModel",
            "bar_style": "",
            "max": 1,
            "_view_module": "@jupyter-widgets/controls",
            "_model_module_version": "1.5.0",
            "value": 0,
            "_view_count": null,
            "_view_module_version": "1.5.0",
            "orientation": "horizontal",
            "min": 0,
            "description_tooltip": null,
            "_model_module": "@jupyter-widgets/controls",
            "layout": "IPY_MODEL_4e148963689b4a98b3da5f09ef7e7194"
          }
        },
        "ed66cb38c83446c9965677a3b732387d": {
          "model_module": "@jupyter-widgets/controls",
          "model_name": "HTMLModel",
          "state": {
            "_view_name": "HTMLView",
            "style": "IPY_MODEL_69c03317e36f4f959a25f1c626802153",
            "_dom_classes": [],
            "description": "",
            "_model_name": "HTMLModel",
            "placeholder": "​",
            "_view_module": "@jupyter-widgets/controls",
            "_model_module_version": "1.5.0",
            "value": " 0/1 [00:00&lt;?, ?it/s]",
            "_view_count": null,
            "_view_module_version": "1.5.0",
            "description_tooltip": null,
            "_model_module": "@jupyter-widgets/controls",
            "layout": "IPY_MODEL_6e590569e43f4f15808e4faee69ec6cd"
          }
        },
        "4743f7d217eb471c8d243d11e198c8b0": {
          "model_module": "@jupyter-widgets/controls",
          "model_name": "ProgressStyleModel",
          "state": {
            "_view_name": "StyleView",
            "_model_name": "ProgressStyleModel",
            "description_width": "initial",
            "_view_module": "@jupyter-widgets/base",
            "_model_module_version": "1.5.0",
            "_view_count": null,
            "_view_module_version": "1.2.0",
            "bar_color": null,
            "_model_module": "@jupyter-widgets/controls"
          }
        },
        "4e148963689b4a98b3da5f09ef7e7194": {
          "model_module": "@jupyter-widgets/base",
          "model_name": "LayoutModel",
          "state": {
            "_view_name": "LayoutView",
            "grid_template_rows": null,
            "right": null,
            "justify_content": null,
            "_view_module": "@jupyter-widgets/base",
            "overflow": null,
            "_model_module_version": "1.2.0",
            "_view_count": null,
            "flex_flow": null,
            "width": null,
            "min_width": null,
            "border": null,
            "align_items": null,
            "bottom": null,
            "_model_module": "@jupyter-widgets/base",
            "top": null,
            "grid_column": null,
            "overflow_y": null,
            "overflow_x": null,
            "grid_auto_flow": null,
            "grid_area": null,
            "grid_template_columns": null,
            "flex": null,
            "_model_name": "LayoutModel",
            "justify_items": null,
            "grid_row": null,
            "max_height": null,
            "align_content": null,
            "visibility": null,
            "align_self": null,
            "height": null,
            "min_height": null,
            "padding": null,
            "grid_auto_rows": null,
            "grid_gap": null,
            "max_width": null,
            "order": null,
            "_view_module_version": "1.2.0",
            "grid_template_areas": null,
            "object_position": null,
            "object_fit": null,
            "grid_auto_columns": null,
            "margin": null,
            "display": null,
            "left": null
          }
        },
        "69c03317e36f4f959a25f1c626802153": {
          "model_module": "@jupyter-widgets/controls",
          "model_name": "DescriptionStyleModel",
          "state": {
            "_view_name": "StyleView",
            "_model_name": "DescriptionStyleModel",
            "description_width": "",
            "_view_module": "@jupyter-widgets/base",
            "_model_module_version": "1.5.0",
            "_view_count": null,
            "_view_module_version": "1.2.0",
            "_model_module": "@jupyter-widgets/controls"
          }
        },
        "6e590569e43f4f15808e4faee69ec6cd": {
          "model_module": "@jupyter-widgets/base",
          "model_name": "LayoutModel",
          "state": {
            "_view_name": "LayoutView",
            "grid_template_rows": null,
            "right": null,
            "justify_content": null,
            "_view_module": "@jupyter-widgets/base",
            "overflow": null,
            "_model_module_version": "1.2.0",
            "_view_count": null,
            "flex_flow": null,
            "width": null,
            "min_width": null,
            "border": null,
            "align_items": null,
            "bottom": null,
            "_model_module": "@jupyter-widgets/base",
            "top": null,
            "grid_column": null,
            "overflow_y": null,
            "overflow_x": null,
            "grid_auto_flow": null,
            "grid_area": null,
            "grid_template_columns": null,
            "flex": null,
            "_model_name": "LayoutModel",
            "justify_items": null,
            "grid_row": null,
            "max_height": null,
            "align_content": null,
            "visibility": null,
            "align_self": null,
            "height": null,
            "min_height": null,
            "padding": null,
            "grid_auto_rows": null,
            "grid_gap": null,
            "max_width": null,
            "order": null,
            "_view_module_version": "1.2.0",
            "grid_template_areas": null,
            "object_position": null,
            "object_fit": null,
            "grid_auto_columns": null,
            "margin": null,
            "display": null,
            "left": null
          }
        },
        "e6a160c22b6e452cb0ea2f60250f3f33": {
          "model_module": "@jupyter-widgets/controls",
          "model_name": "HBoxModel",
          "state": {
            "_view_name": "HBoxView",
            "_dom_classes": [],
            "_model_name": "HBoxModel",
            "_view_module": "@jupyter-widgets/controls",
            "_model_module_version": "1.5.0",
            "_view_count": null,
            "_view_module_version": "1.5.0",
            "box_style": "",
            "layout": "IPY_MODEL_b72b6a4fe0ac41928b51e0e653e47a93",
            "_model_module": "@jupyter-widgets/controls",
            "children": [
              "IPY_MODEL_5dd446c9b688455d94bb17dbbc7c0b30",
              "IPY_MODEL_b3c6ad17b45c49fa888be91ce3533967"
            ]
          }
        },
        "b72b6a4fe0ac41928b51e0e653e47a93": {
          "model_module": "@jupyter-widgets/base",
          "model_name": "LayoutModel",
          "state": {
            "_view_name": "LayoutView",
            "grid_template_rows": null,
            "right": null,
            "justify_content": null,
            "_view_module": "@jupyter-widgets/base",
            "overflow": null,
            "_model_module_version": "1.2.0",
            "_view_count": null,
            "flex_flow": null,
            "width": null,
            "min_width": null,
            "border": null,
            "align_items": null,
            "bottom": null,
            "_model_module": "@jupyter-widgets/base",
            "top": null,
            "grid_column": null,
            "overflow_y": null,
            "overflow_x": null,
            "grid_auto_flow": null,
            "grid_area": null,
            "grid_template_columns": null,
            "flex": null,
            "_model_name": "LayoutModel",
            "justify_items": null,
            "grid_row": null,
            "max_height": null,
            "align_content": null,
            "visibility": null,
            "align_self": null,
            "height": null,
            "min_height": null,
            "padding": null,
            "grid_auto_rows": null,
            "grid_gap": null,
            "max_width": null,
            "order": null,
            "_view_module_version": "1.2.0",
            "grid_template_areas": null,
            "object_position": null,
            "object_fit": null,
            "grid_auto_columns": null,
            "margin": null,
            "display": null,
            "left": null
          }
        },
        "5dd446c9b688455d94bb17dbbc7c0b30": {
          "model_module": "@jupyter-widgets/controls",
          "model_name": "FloatProgressModel",
          "state": {
            "_view_name": "ProgressView",
            "style": "IPY_MODEL_96b8af9ec2584cf38c107284257a8fac",
            "_dom_classes": [],
            "description": "Iteration:   8%",
            "_model_name": "FloatProgressModel",
            "bar_style": "",
            "max": 14000,
            "_view_module": "@jupyter-widgets/controls",
            "_model_module_version": "1.5.0",
            "value": 1129,
            "_view_count": null,
            "_view_module_version": "1.5.0",
            "orientation": "horizontal",
            "min": 0,
            "description_tooltip": null,
            "_model_module": "@jupyter-widgets/controls",
            "layout": "IPY_MODEL_1a73510c3d43467f855c37bcbe261b4d"
          }
        },
        "b3c6ad17b45c49fa888be91ce3533967": {
          "model_module": "@jupyter-widgets/controls",
          "model_name": "HTMLModel",
          "state": {
            "_view_name": "HTMLView",
            "style": "IPY_MODEL_5505daa3f73340229579a97b751cc138",
            "_dom_classes": [],
            "description": "",
            "_model_name": "HTMLModel",
            "placeholder": "​",
            "_view_module": "@jupyter-widgets/controls",
            "_model_module_version": "1.5.0",
            "value": " 1128/14000 [16:22&lt;3:00:21,  1.19it/s]",
            "_view_count": null,
            "_view_module_version": "1.5.0",
            "description_tooltip": null,
            "_model_module": "@jupyter-widgets/controls",
            "layout": "IPY_MODEL_d32a74aece0a4e0d8e086f4a1f66b58e"
          }
        },
        "96b8af9ec2584cf38c107284257a8fac": {
          "model_module": "@jupyter-widgets/controls",
          "model_name": "ProgressStyleModel",
          "state": {
            "_view_name": "StyleView",
            "_model_name": "ProgressStyleModel",
            "description_width": "initial",
            "_view_module": "@jupyter-widgets/base",
            "_model_module_version": "1.5.0",
            "_view_count": null,
            "_view_module_version": "1.2.0",
            "bar_color": null,
            "_model_module": "@jupyter-widgets/controls"
          }
        },
        "1a73510c3d43467f855c37bcbe261b4d": {
          "model_module": "@jupyter-widgets/base",
          "model_name": "LayoutModel",
          "state": {
            "_view_name": "LayoutView",
            "grid_template_rows": null,
            "right": null,
            "justify_content": null,
            "_view_module": "@jupyter-widgets/base",
            "overflow": null,
            "_model_module_version": "1.2.0",
            "_view_count": null,
            "flex_flow": null,
            "width": null,
            "min_width": null,
            "border": null,
            "align_items": null,
            "bottom": null,
            "_model_module": "@jupyter-widgets/base",
            "top": null,
            "grid_column": null,
            "overflow_y": null,
            "overflow_x": null,
            "grid_auto_flow": null,
            "grid_area": null,
            "grid_template_columns": null,
            "flex": null,
            "_model_name": "LayoutModel",
            "justify_items": null,
            "grid_row": null,
            "max_height": null,
            "align_content": null,
            "visibility": null,
            "align_self": null,
            "height": null,
            "min_height": null,
            "padding": null,
            "grid_auto_rows": null,
            "grid_gap": null,
            "max_width": null,
            "order": null,
            "_view_module_version": "1.2.0",
            "grid_template_areas": null,
            "object_position": null,
            "object_fit": null,
            "grid_auto_columns": null,
            "margin": null,
            "display": null,
            "left": null
          }
        },
        "5505daa3f73340229579a97b751cc138": {
          "model_module": "@jupyter-widgets/controls",
          "model_name": "DescriptionStyleModel",
          "state": {
            "_view_name": "StyleView",
            "_model_name": "DescriptionStyleModel",
            "description_width": "",
            "_view_module": "@jupyter-widgets/base",
            "_model_module_version": "1.5.0",
            "_view_count": null,
            "_view_module_version": "1.2.0",
            "_model_module": "@jupyter-widgets/controls"
          }
        },
        "d32a74aece0a4e0d8e086f4a1f66b58e": {
          "model_module": "@jupyter-widgets/base",
          "model_name": "LayoutModel",
          "state": {
            "_view_name": "LayoutView",
            "grid_template_rows": null,
            "right": null,
            "justify_content": null,
            "_view_module": "@jupyter-widgets/base",
            "overflow": null,
            "_model_module_version": "1.2.0",
            "_view_count": null,
            "flex_flow": null,
            "width": null,
            "min_width": null,
            "border": null,
            "align_items": null,
            "bottom": null,
            "_model_module": "@jupyter-widgets/base",
            "top": null,
            "grid_column": null,
            "overflow_y": null,
            "overflow_x": null,
            "grid_auto_flow": null,
            "grid_area": null,
            "grid_template_columns": null,
            "flex": null,
            "_model_name": "LayoutModel",
            "justify_items": null,
            "grid_row": null,
            "max_height": null,
            "align_content": null,
            "visibility": null,
            "align_self": null,
            "height": null,
            "min_height": null,
            "padding": null,
            "grid_auto_rows": null,
            "grid_gap": null,
            "max_width": null,
            "order": null,
            "_view_module_version": "1.2.0",
            "grid_template_areas": null,
            "object_position": null,
            "object_fit": null,
            "grid_auto_columns": null,
            "margin": null,
            "display": null,
            "left": null
          }
        }
      }
    }
  },
  "cells": [
    {
      "cell_type": "code",
      "metadata": {
        "id": "4EojGaw0sb_l",
        "colab_type": "code",
        "colab": {
          "base_uri": "https://localhost:8080/",
          "height": 573
        },
        "outputId": "fb7f6db1-5798-44ef-c47e-4ced6ccbde08"
      },
      "source": [
        "# run this cell, then restart the runtime before continuing\n",
        "# !pip install git+https://github.com/joeddav/transformers.git@data-collator-type-fix\n",
        "# !pip install git+https://github.com/huggingface/transformers.git\n",
        "# !pip install git+https://github.com/huggingface/nlp.git\n",
        "!pip install transformers\n",
        "!pip install nlp"
      ],
      "execution_count": 1,
      "outputs": [
        {
          "output_type": "stream",
          "text": [
            "Requirement already satisfied: transformers in /usr/local/lib/python3.6/dist-packages (3.0.2)\n",
            "Requirement already satisfied: dataclasses; python_version < \"3.7\" in /usr/local/lib/python3.6/dist-packages (from transformers) (0.7)\n",
            "Requirement already satisfied: tqdm>=4.27 in /usr/local/lib/python3.6/dist-packages (from transformers) (4.41.1)\n",
            "Requirement already satisfied: tokenizers==0.8.1.rc1 in /usr/local/lib/python3.6/dist-packages (from transformers) (0.8.1rc1)\n",
            "Requirement already satisfied: numpy in /usr/local/lib/python3.6/dist-packages (from transformers) (1.18.5)\n",
            "Requirement already satisfied: regex!=2019.12.17 in /usr/local/lib/python3.6/dist-packages (from transformers) (2019.12.20)\n",
            "Requirement already satisfied: sentencepiece!=0.1.92 in /usr/local/lib/python3.6/dist-packages (from transformers) (0.1.91)\n",
            "Requirement already satisfied: requests in /usr/local/lib/python3.6/dist-packages (from transformers) (2.23.0)\n",
            "Requirement already satisfied: sacremoses in /usr/local/lib/python3.6/dist-packages (from transformers) (0.0.43)\n",
            "Requirement already satisfied: packaging in /usr/local/lib/python3.6/dist-packages (from transformers) (20.4)\n",
            "Requirement already satisfied: filelock in /usr/local/lib/python3.6/dist-packages (from transformers) (3.0.12)\n",
            "Requirement already satisfied: certifi>=2017.4.17 in /usr/local/lib/python3.6/dist-packages (from requests->transformers) (2020.6.20)\n",
            "Requirement already satisfied: chardet<4,>=3.0.2 in /usr/local/lib/python3.6/dist-packages (from requests->transformers) (3.0.4)\n",
            "Requirement already satisfied: idna<3,>=2.5 in /usr/local/lib/python3.6/dist-packages (from requests->transformers) (2.9)\n",
            "Requirement already satisfied: urllib3!=1.25.0,!=1.25.1,<1.26,>=1.21.1 in /usr/local/lib/python3.6/dist-packages (from requests->transformers) (1.24.3)\n",
            "Requirement already satisfied: six in /usr/local/lib/python3.6/dist-packages (from sacremoses->transformers) (1.12.0)\n",
            "Requirement already satisfied: joblib in /usr/local/lib/python3.6/dist-packages (from sacremoses->transformers) (0.15.1)\n",
            "Requirement already satisfied: click in /usr/local/lib/python3.6/dist-packages (from sacremoses->transformers) (7.1.2)\n",
            "Requirement already satisfied: pyparsing>=2.0.2 in /usr/local/lib/python3.6/dist-packages (from packaging->transformers) (2.4.7)\n",
            "Requirement already satisfied: nlp in /usr/local/lib/python3.6/dist-packages (0.3.0)\n",
            "Requirement already satisfied: dataclasses; python_version < \"3.7\" in /usr/local/lib/python3.6/dist-packages (from nlp) (0.7)\n",
            "Requirement already satisfied: filelock in /usr/local/lib/python3.6/dist-packages (from nlp) (3.0.12)\n",
            "Requirement already satisfied: dill in /usr/local/lib/python3.6/dist-packages (from nlp) (0.3.2)\n",
            "Requirement already satisfied: requests>=2.19.0 in /usr/local/lib/python3.6/dist-packages (from nlp) (2.23.0)\n",
            "Requirement already satisfied: numpy in /usr/local/lib/python3.6/dist-packages (from nlp) (1.18.5)\n",
            "Requirement already satisfied: pyarrow>=0.16.0 in /usr/local/lib/python3.6/dist-packages (from nlp) (0.17.1)\n",
            "Requirement already satisfied: tqdm>=4.27 in /usr/local/lib/python3.6/dist-packages (from nlp) (4.41.1)\n",
            "Requirement already satisfied: urllib3!=1.25.0,!=1.25.1,<1.26,>=1.21.1 in /usr/local/lib/python3.6/dist-packages (from requests>=2.19.0->nlp) (1.24.3)\n",
            "Requirement already satisfied: idna<3,>=2.5 in /usr/local/lib/python3.6/dist-packages (from requests>=2.19.0->nlp) (2.9)\n",
            "Requirement already satisfied: certifi>=2017.4.17 in /usr/local/lib/python3.6/dist-packages (from requests>=2.19.0->nlp) (2020.6.20)\n",
            "Requirement already satisfied: chardet<4,>=3.0.2 in /usr/local/lib/python3.6/dist-packages (from requests>=2.19.0->nlp) (3.0.4)\n"
          ],
          "name": "stdout"
        }
      ]
    },
    {
      "cell_type": "code",
      "metadata": {
        "id": "iSh38WAXVhJs",
        "colab_type": "code",
        "colab": {}
      },
      "source": [
        "!rm -rf logs\n",
        "!rm -rf results"
      ],
      "execution_count": 2,
      "outputs": []
    },
    {
      "cell_type": "code",
      "metadata": {
        "id": "Vhxqq3lPI5ta",
        "colab_type": "code",
        "colab": {}
      },
      "source": [
        "from transformers import (\n",
        "    AutoModelForSequenceClassification,\n",
        "    AutoTokenizer,\n",
        "    Trainer,\n",
        "    TrainingArguments,\n",
        ")\n",
        "from nlp import load_dataset\n",
        "import torch\n",
        "import random\n",
        "import numpy as np\n",
        "from sklearn.metrics import accuracy_score, precision_recall_fscore_support\n",
        "from sklearn.model_selection import train_test_split\n",
        "\n",
        "import warnings\n",
        "warnings.filterwarnings(\"ignore\", category=FutureWarning)"
      ],
      "execution_count": 3,
      "outputs": []
    },
    {
      "cell_type": "code",
      "metadata": {
        "id": "G3Z0CEQOI0RF",
        "colab_type": "code",
        "colab": {}
      },
      "source": [
        "def compute_metrics(pred):\n",
        "    \"\"\"Compute precision, recall, and F1 score.\n",
        "\n",
        "    Arg:\n",
        "        pred: The model prediction.\n",
        "    \"\"\"\n",
        "    labels = pred.label_ids\n",
        "    preds = pred.predictions.argmax(-1)\n",
        "    precision, recall, f1, _ = precision_recall_fscore_support(\n",
        "        labels, preds, average=\"binary\"\n",
        "    )\n",
        "    acc = accuracy_score(labels, preds)\n",
        "    return {\"accuracy\": acc, \"f1\": f1, \"precision\": precision, \"recall\": recall}\n",
        "\n",
        "def tokenize(batch):\n",
        "    \"\"\"Tokenize a batch of data (with padding and truncation).\n",
        "\n",
        "    Arg:\n",
        "        batch: A batch of training data.\n",
        "    \"\"\"\n",
        "    return tokenizer(batch[\"text\"], padding=True, truncation=True,)"
      ],
      "execution_count": 4,
      "outputs": []
    },
    {
      "cell_type": "code",
      "metadata": {
        "id": "Zxt7vujYiL18",
        "colab_type": "code",
        "colab": {}
      },
      "source": [
        "models = {\n",
        "    \"distilbert\": \"distilbert-base-uncased\",\n",
        "    \"distilroberta\": \"distilroberta-base\"\n",
        "}\n",
        "\n",
        "tokenizers = {\n",
        "    \"distilbert\": \"bert-base-uncased\",\n",
        "    \"distilroberta\": \"roberta-base\"\n",
        "}"
      ],
      "execution_count": 5,
      "outputs": []
    },
    {
      "cell_type": "code",
      "metadata": {
        "id": "GgDuqEZKJsf6",
        "colab_type": "code",
        "colab": {
          "base_uri": "https://localhost:8080/",
          "height": 124
        },
        "outputId": "840f5b27-e7e3-4e07-8ed3-24ace93c3926"
      },
      "source": [
        "# Load model and tokenizer\n",
        "model = AutoModelForSequenceClassification.from_pretrained(models[\"distilroberta\"])\n",
        "tokenizer = AutoTokenizer.from_pretrained(tokenizers[\"distilroberta\"], use_fast=True)"
      ],
      "execution_count": 6,
      "outputs": [
        {
          "output_type": "stream",
          "text": [
            "Some weights of the model checkpoint at distilroberta-base were not used when initializing RobertaForSequenceClassification: ['lm_head.bias', 'lm_head.dense.weight', 'lm_head.dense.bias', 'lm_head.layer_norm.weight', 'lm_head.layer_norm.bias', 'lm_head.decoder.weight']\n",
            "- This IS expected if you are initializing RobertaForSequenceClassification from the checkpoint of a model trained on another task or with another architecture (e.g. initializing a BertForSequenceClassification model from a BertForPretraining model).\n",
            "- This IS NOT expected if you are initializing RobertaForSequenceClassification from the checkpoint of a model that you expect to be exactly identical (initializing a BertForSequenceClassification model from a BertForSequenceClassification model).\n",
            "Some weights of RobertaForSequenceClassification were not initialized from the model checkpoint at distilroberta-base and are newly initialized: ['classifier.dense.weight', 'classifier.dense.bias', 'classifier.out_proj.weight', 'classifier.out_proj.bias']\n",
            "You should probably TRAIN this model on a down-stream task to be able to use it for predictions and inference.\n"
          ],
          "name": "stderr"
        }
      ]
    },
    {
      "cell_type": "code",
      "metadata": {
        "id": "sR81kWKfFe_f",
        "colab_type": "code",
        "colab": {}
      },
      "source": [
        "# # Load train and test datasets\n",
        "# imdb_train = load_dataset(\"imdb\", split=\"train\")\n",
        "# imdb_test = load_dataset(\"imdb\", split=\"test\")\n",
        "\n",
        "# # Randomly choose train and validation indices\n",
        "# train_indices, val_indices = train_test_split(\n",
        "#     range(len(imdb_train)), test_size=0.2, train_size=0.8, random_state=random.seed(42)\n",
        "# )\n",
        "\n",
        "# # Split train and validation data\n",
        "# train_dataset = imdb_train.select(indices=train_indices)\n",
        "# val_dataset = imdb_train.select(indices=val_indices)\n",
        "# test_dataset = imdb_test\n",
        "\n",
        "# # Preprocess\n",
        "# train_dataset = train_dataset.map(tokenize, batched=True)\n",
        "# val_dataset = val_dataset.map(tokenize, batched=True)\n",
        "# test_dataset = test_dataset.map(tokenize, batched=True)\n",
        "# train_dataset.set_format(\"torch\", columns=[\"input_ids\", \"attention_mask\", \"label\"])\n",
        "# val_dataset.set_format(\"torch\", columns=[\"input_ids\", \"attention_mask\", \"label\"])\n",
        "# test_dataset.set_format(\"torch\", columns=[\"input_ids\", \"attention_mask\", \"label\"])"
      ],
      "execution_count": 7,
      "outputs": []
    },
    {
      "cell_type": "code",
      "metadata": {
        "id": "kDW6-ECVFjmc",
        "colab_type": "code",
        "colab": {
          "base_uri": "https://localhost:8080/",
          "height": 86
        },
        "outputId": "6fcbcc70-63ac-4e59-e529-b58151b46201"
      },
      "source": [
        "# Load train and test datasets\n",
        "yelp_train = load_dataset(\"yelp_polarity\", split=\"train\")\n",
        "yelp_test = load_dataset(\"yelp_polarity\", split=\"test\")\n",
        "\n",
        "# Randomly choose train and validation indices\n",
        "train_indices, val_indices = train_test_split(\n",
        "    range(len(yelp_train)), test_size=0.2, train_size=0.8, random_state=random.seed(42)\n",
        ")\n",
        "\n",
        "# Split train and validation data\n",
        "train_dataset = yelp_train.select(indices=train_indices)\n",
        "val_dataset = yelp_train.select(indices=val_indices)\n",
        "test_dataset = yelp_test\n",
        "\n",
        "# Preprocess\n",
        "train_dataset = train_dataset.map(tokenize, batched=True)\n",
        "val_dataset = val_dataset.map(tokenize, batched=True)\n",
        "test_dataset = test_dataset.map(tokenize, batched=True)\n",
        "train_dataset.set_format(\"torch\", columns=[\"input_ids\", \"attention_mask\", \"label\"])\n",
        "val_dataset.set_format(\"torch\", columns=[\"input_ids\", \"attention_mask\", \"label\"])\n",
        "test_dataset.set_format(\"torch\", columns=[\"input_ids\", \"attention_mask\", \"label\"])"
      ],
      "execution_count": 8,
      "outputs": [
        {
          "output_type": "stream",
          "text": [
            "100%|██████████| 448000/448000 [00:08<00:00, 51945.52it/s]\n",
            "100%|██████████| 112000/112000 [00:02<00:00, 52592.32it/s]\n",
            "100%|██████████| 448/448 [02:11<00:00,  3.40it/s]\n",
            "100%|██████████| 112/112 [00:32<00:00,  3.40it/s]\n"
          ],
          "name": "stderr"
        }
      ]
    },
    {
      "cell_type": "code",
      "metadata": {
        "id": "tFN0Otl-Iunv",
        "colab_type": "code",
        "colab": {}
      },
      "source": [
        "# Define training arguments\n",
        "training_args = TrainingArguments(\n",
        "    adam_epsilon=1e-08,\n",
        "    eval_steps=10000,\n",
        "    evaluate_during_training=True,\n",
        "    gradient_accumulation_steps=1,\n",
        "    learning_rate=5e-05,\n",
        "    logging_dir=\"./logs\",\n",
        "    max_grad_norm=1.0,\n",
        "    num_train_epochs=1,\n",
        "    output_dir=\"./results\",\n",
        "    per_device_eval_batch_size=32,\n",
        "    per_device_train_batch_size=32,\n",
        "    save_steps=10000,\n",
        "    seed=42,\n",
        "    warmup_steps=0,\n",
        "    weight_decay=0.0\n",
        ")\n",
        "\n",
        "# Define trainer\n",
        "trainer = Trainer(\n",
        "    model=model,\n",
        "    args=training_args,\n",
        "    compute_metrics=compute_metrics,\n",
        "    train_dataset=train_dataset,\n",
        "    eval_dataset=val_dataset,\n",
        ")"
      ],
      "execution_count": 9,
      "outputs": []
    },
    {
      "cell_type": "code",
      "metadata": {
        "id": "tlALiBTwOXGg",
        "colab_type": "code",
        "colab": {
          "base_uri": "https://localhost:8080/",
          "height": 622
        },
        "outputId": "51540e05-abb0-4b4a-f96d-504dca7fb6f9"
      },
      "source": [
        "training_args.__dict__"
      ],
      "execution_count": 10,
      "outputs": [
        {
          "output_type": "execute_result",
          "data": {
            "text/plain": [
              "{'__cached__setup_devices': (device(type='cuda', index=0), 1),\n",
              " 'adam_epsilon': 1e-08,\n",
              " 'dataloader_drop_last': False,\n",
              " 'debug': False,\n",
              " 'do_eval': False,\n",
              " 'do_predict': False,\n",
              " 'do_train': False,\n",
              " 'eval_steps': 10000,\n",
              " 'evaluate_during_training': True,\n",
              " 'fp16': False,\n",
              " 'fp16_opt_level': 'O1',\n",
              " 'gradient_accumulation_steps': 1,\n",
              " 'learning_rate': 5e-05,\n",
              " 'local_rank': -1,\n",
              " 'logging_dir': './logs',\n",
              " 'logging_first_step': False,\n",
              " 'logging_steps': 500,\n",
              " 'max_grad_norm': 1.0,\n",
              " 'max_steps': -1,\n",
              " 'no_cuda': False,\n",
              " 'num_train_epochs': 1,\n",
              " 'output_dir': './results',\n",
              " 'overwrite_output_dir': False,\n",
              " 'past_index': -1,\n",
              " 'per_device_eval_batch_size': 32,\n",
              " 'per_device_train_batch_size': 32,\n",
              " 'per_gpu_eval_batch_size': None,\n",
              " 'per_gpu_train_batch_size': None,\n",
              " 'save_steps': 10000,\n",
              " 'save_total_limit': None,\n",
              " 'seed': 42,\n",
              " 'tpu_metrics_debug': False,\n",
              " 'tpu_num_cores': None,\n",
              " 'warmup_steps': 0,\n",
              " 'weight_decay': 0.0}"
            ]
          },
          "metadata": {
            "tags": []
          },
          "execution_count": 10
        }
      ]
    },
    {
      "cell_type": "code",
      "metadata": {
        "id": "RORo86o3IuqB",
        "colab_type": "code",
        "colab": {
          "base_uri": "https://localhost:8080/",
          "height": 81,
          "referenced_widgets": [
            "a291d79f26d94dee932bb5f9356ca617",
            "b7a669f4de754c07990e4ce8d7dbe76f",
            "66af09cad3d248d7a19b83a9f187ba52",
            "ed66cb38c83446c9965677a3b732387d",
            "4743f7d217eb471c8d243d11e198c8b0",
            "4e148963689b4a98b3da5f09ef7e7194",
            "69c03317e36f4f959a25f1c626802153",
            "6e590569e43f4f15808e4faee69ec6cd",
            "e6a160c22b6e452cb0ea2f60250f3f33",
            "b72b6a4fe0ac41928b51e0e653e47a93",
            "5dd446c9b688455d94bb17dbbc7c0b30",
            "b3c6ad17b45c49fa888be91ce3533967",
            "96b8af9ec2584cf38c107284257a8fac",
            "1a73510c3d43467f855c37bcbe261b4d",
            "5505daa3f73340229579a97b751cc138",
            "d32a74aece0a4e0d8e086f4a1f66b58e"
          ]
        },
        "outputId": "9856b9e9-2ac3-46c0-b127-6bf589b58e53"
      },
      "source": [
        "# Fine-tune the model\n",
        "trainer.train()"
      ],
      "execution_count": null,
      "outputs": [
        {
          "output_type": "display_data",
          "data": {
            "application/vnd.jupyter.widget-view+json": {
              "model_id": "a291d79f26d94dee932bb5f9356ca617",
              "version_minor": 0,
              "version_major": 2
            },
            "text/plain": [
              "HBox(children=(FloatProgress(value=0.0, description='Epoch', max=1.0, style=ProgressStyle(description_width='i…"
            ]
          },
          "metadata": {
            "tags": []
          }
        },
        {
          "output_type": "display_data",
          "data": {
            "application/vnd.jupyter.widget-view+json": {
              "model_id": "e6a160c22b6e452cb0ea2f60250f3f33",
              "version_minor": 0,
              "version_major": 2
            },
            "text/plain": [
              "HBox(children=(FloatProgress(value=0.0, description='Iteration', max=14000.0, style=ProgressStyle(description_…"
            ]
          },
          "metadata": {
            "tags": []
          }
        }
      ]
    },
    {
      "cell_type": "code",
      "metadata": {
        "id": "Yp3l5lePIur6",
        "colab_type": "code",
        "colab": {}
      },
      "source": [
        "# Evaluate the model on training set\n",
        "train_score = trainer.evaluate(eval_dataset=train_dataset)"
      ],
      "execution_count": null,
      "outputs": []
    },
    {
      "cell_type": "code",
      "metadata": {
        "id": "uuCeOCu8c5Mm",
        "colab_type": "code",
        "colab": {}
      },
      "source": [
        "# Evaluate the model on validation set\n",
        "val_score = trainer.evaluate(eval_dataset=val_dataset)"
      ],
      "execution_count": null,
      "outputs": []
    },
    {
      "cell_type": "code",
      "metadata": {
        "id": "QGU6pQdpc78z",
        "colab_type": "code",
        "colab": {}
      },
      "source": [
        "# Evaluate the model on test set\n",
        "test_score = trainer.evaluate(eval_dataset=test_dataset)"
      ],
      "execution_count": null,
      "outputs": []
    },
    {
      "cell_type": "code",
      "metadata": {
        "id": "3lYY5-_6y50_",
        "colab_type": "code",
        "colab": {}
      },
      "source": [
        "print(\"train_f1:\", round(train_score[\"eval_f1\"], 4)) \n",
        "print(\"train_acc:\", round(train_score[\"eval_accuracy\"], 4)) \n",
        "print(\"val_f1:\", round(val_score[\"eval_f1\"], 4)) \n",
        "print(\"val_acc:\", round(val_score[\"eval_accuracy\"], 4)) \n",
        "print(\"test_f1:\", round(test_score[\"eval_f1\"], 4)) \n",
        "print(\"test_acc:\", round(test_score[\"eval_accuracy\"], 4))"
      ],
      "execution_count": null,
      "outputs": []
    },
    {
      "cell_type": "code",
      "metadata": {
        "id": "BICD_0YAaNb9",
        "colab_type": "code",
        "colab": {}
      },
      "source": [
        "# %load_ext tensorboard\n",
        "# %tensorboard --logdir logs"
      ],
      "execution_count": null,
      "outputs": []
    },
    {
      "cell_type": "code",
      "metadata": {
        "id": "9JyR62usZxuK",
        "colab_type": "code",
        "colab": {}
      },
      "source": [
        "# trainer.model.save_pretrained(\"/content/drive/My Drive/models/distilroberta\")\n",
        "# tokenizer.save_pretrained(\"/content/drive/My Drive/models/distilroberta\")"
      ],
      "execution_count": null,
      "outputs": []
    },
    {
      "cell_type": "code",
      "metadata": {
        "id": "LiHAjH81Su6X",
        "colab_type": "code",
        "colab": {}
      },
      "source": [
        "# from transformers import pipeline, AutoModelForSequenceClassification, AutoTokenizer\n",
        "\n",
        "# # Sentiment analysis pipeline\n",
        "# model = AutoModelForSequenceClassification.from_pretrained(\"/content/drive/My Drive/models/distilroberta\")\n",
        "# tokenizer = AutoTokenizer.from_pretrained(\"/content/drive/My Drive/models/distilroberta\", use_fast=True)\n",
        "# ppl = pipeline('sentiment-analysis', model=model, tokenizer=tokenizer)"
      ],
      "execution_count": null,
      "outputs": []
    },
    {
      "cell_type": "code",
      "metadata": {
        "id": "p7uxrMvHtmx1",
        "colab_type": "code",
        "colab": {}
      },
      "source": [
        ""
      ],
      "execution_count": null,
      "outputs": []
    }
  ]
}